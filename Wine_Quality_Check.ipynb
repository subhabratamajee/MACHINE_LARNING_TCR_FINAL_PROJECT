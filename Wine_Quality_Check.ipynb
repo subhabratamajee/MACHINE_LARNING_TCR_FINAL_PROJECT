{
  "nbformat": 4,
  "nbformat_minor": 0,
  "metadata": {
    "colab": {
      "name": "Wine Quality Check",
      "provenance": [],
      "collapsed_sections": [],
      "authorship_tag": "ABX9TyM6d5AjhgrrvGmMuwKAd49G",
      "include_colab_link": true
    },
    "kernelspec": {
      "name": "python3",
      "display_name": "Python 3"
    },
    "language_info": {
      "name": "python"
    }
  },
  "cells": [
    {
      "cell_type": "markdown",
      "metadata": {
        "id": "view-in-github",
        "colab_type": "text"
      },
      "source": [
        "<a href=\"https://colab.research.google.com/github/subhabratamajee/MACHINE_LARNING_TCR_FINAL_PROJECT/blob/main/Wine_Quality_Check.ipynb\" target=\"_parent\"><img src=\"https://colab.research.google.com/assets/colab-badge.svg\" alt=\"Open In Colab\"/></a>"
      ]
    },
    {
      "cell_type": "markdown",
      "metadata": {
        "id": "03bhURlDx1N4"
      },
      "source": [
        "# **wine quality check**"
      ]
    },
    {
      "cell_type": "markdown",
      "metadata": {
        "id": "F-r0JiC9NHzC"
      },
      "source": [
        "**Importing relevant packages**"
      ]
    },
    {
      "cell_type": "code",
      "metadata": {
        "id": "GYJjbndJyLjx"
      },
      "source": [
        "import numpy as np\n",
        "import pandas as pd\n",
        "import matplotlib.pyplot as plt\n",
        "import seaborn as sns\n",
        "from sklearn.preprocessing import LabelEncoder, StandardScaler\n",
        "from sklearn.model_selection import train_test_split\n",
        "from sklearn.metrics import confusion_matrix, classification_report, accuracy_score"
      ],
      "execution_count": 9,
      "outputs": []
    },
    {
      "cell_type": "markdown",
      "metadata": {
        "id": "_iOJ6rn2eoU0"
      },
      "source": [
        "**Importing dataset**"
      ]
    },
    {
      "cell_type": "code",
      "metadata": {
        "id": "vbfQ2BGhyVTn"
      },
      "source": [
        "dataset = pd.read_csv(\"/content/Final Project 1.csv\")"
      ],
      "execution_count": 10,
      "outputs": []
    },
    {
      "cell_type": "code",
      "metadata": {
        "colab": {
          "base_uri": "https://localhost:8080/",
          "height": 204
        },
        "id": "ZClKu1ecyVWP",
        "outputId": "63fe5f98-6cdf-4b29-d7aa-7590f253c91f"
      },
      "source": [
        "dataset.head()"
      ],
      "execution_count": 11,
      "outputs": [
        {
          "output_type": "execute_result",
          "data": {
            "text/html": [
              "<div>\n",
              "<style scoped>\n",
              "    .dataframe tbody tr th:only-of-type {\n",
              "        vertical-align: middle;\n",
              "    }\n",
              "\n",
              "    .dataframe tbody tr th {\n",
              "        vertical-align: top;\n",
              "    }\n",
              "\n",
              "    .dataframe thead th {\n",
              "        text-align: right;\n",
              "    }\n",
              "</style>\n",
              "<table border=\"1\" class=\"dataframe\">\n",
              "  <thead>\n",
              "    <tr style=\"text-align: right;\">\n",
              "      <th></th>\n",
              "      <th>fixed acidity</th>\n",
              "      <th>volatile acidity</th>\n",
              "      <th>citric acid</th>\n",
              "      <th>residual sugar</th>\n",
              "      <th>chlorides</th>\n",
              "      <th>free sulfur dioxide</th>\n",
              "      <th>total sulfur dioxide</th>\n",
              "      <th>density</th>\n",
              "      <th>pH</th>\n",
              "      <th>sulphates</th>\n",
              "      <th>alcohol</th>\n",
              "      <th>quality</th>\n",
              "    </tr>\n",
              "  </thead>\n",
              "  <tbody>\n",
              "    <tr>\n",
              "      <th>0</th>\n",
              "      <td>7.4</td>\n",
              "      <td>0.70</td>\n",
              "      <td>0.00</td>\n",
              "      <td>1.9</td>\n",
              "      <td>0.076</td>\n",
              "      <td>11.0</td>\n",
              "      <td>34.0</td>\n",
              "      <td>0.9978</td>\n",
              "      <td>3.51</td>\n",
              "      <td>0.56</td>\n",
              "      <td>9.4</td>\n",
              "      <td>5</td>\n",
              "    </tr>\n",
              "    <tr>\n",
              "      <th>1</th>\n",
              "      <td>7.8</td>\n",
              "      <td>0.88</td>\n",
              "      <td>0.00</td>\n",
              "      <td>2.6</td>\n",
              "      <td>0.098</td>\n",
              "      <td>25.0</td>\n",
              "      <td>67.0</td>\n",
              "      <td>0.9968</td>\n",
              "      <td>3.20</td>\n",
              "      <td>0.68</td>\n",
              "      <td>9.8</td>\n",
              "      <td>5</td>\n",
              "    </tr>\n",
              "    <tr>\n",
              "      <th>2</th>\n",
              "      <td>7.8</td>\n",
              "      <td>0.76</td>\n",
              "      <td>0.04</td>\n",
              "      <td>2.3</td>\n",
              "      <td>0.092</td>\n",
              "      <td>15.0</td>\n",
              "      <td>54.0</td>\n",
              "      <td>0.9970</td>\n",
              "      <td>3.26</td>\n",
              "      <td>0.65</td>\n",
              "      <td>9.8</td>\n",
              "      <td>5</td>\n",
              "    </tr>\n",
              "    <tr>\n",
              "      <th>3</th>\n",
              "      <td>11.2</td>\n",
              "      <td>0.28</td>\n",
              "      <td>0.56</td>\n",
              "      <td>1.9</td>\n",
              "      <td>0.075</td>\n",
              "      <td>17.0</td>\n",
              "      <td>60.0</td>\n",
              "      <td>0.9980</td>\n",
              "      <td>3.16</td>\n",
              "      <td>0.58</td>\n",
              "      <td>9.8</td>\n",
              "      <td>6</td>\n",
              "    </tr>\n",
              "    <tr>\n",
              "      <th>4</th>\n",
              "      <td>7.4</td>\n",
              "      <td>0.70</td>\n",
              "      <td>0.00</td>\n",
              "      <td>1.9</td>\n",
              "      <td>0.076</td>\n",
              "      <td>11.0</td>\n",
              "      <td>34.0</td>\n",
              "      <td>0.9978</td>\n",
              "      <td>3.51</td>\n",
              "      <td>0.56</td>\n",
              "      <td>9.4</td>\n",
              "      <td>5</td>\n",
              "    </tr>\n",
              "  </tbody>\n",
              "</table>\n",
              "</div>"
            ],
            "text/plain": [
              "   fixed acidity  volatile acidity  citric acid  ...  sulphates  alcohol  quality\n",
              "0            7.4              0.70         0.00  ...       0.56      9.4        5\n",
              "1            7.8              0.88         0.00  ...       0.68      9.8        5\n",
              "2            7.8              0.76         0.04  ...       0.65      9.8        5\n",
              "3           11.2              0.28         0.56  ...       0.58      9.8        6\n",
              "4            7.4              0.70         0.00  ...       0.56      9.4        5\n",
              "\n",
              "[5 rows x 12 columns]"
            ]
          },
          "metadata": {},
          "execution_count": 11
        }
      ]
    },
    {
      "cell_type": "code",
      "metadata": {
        "colab": {
          "base_uri": "https://localhost:8080/"
        },
        "id": "B_Lc7LywyVYz",
        "outputId": "a5c11335-cc03-4283-a4f4-7c4cca00f85e"
      },
      "source": [
        "#number of rows and columns in the dataset\n",
        "print(dataset.shape)"
      ],
      "execution_count": 12,
      "outputs": [
        {
          "output_type": "stream",
          "name": "stdout",
          "text": [
            "(1599, 12)\n"
          ]
        }
      ]
    },
    {
      "cell_type": "code",
      "metadata": {
        "colab": {
          "base_uri": "https://localhost:8080/"
        },
        "id": "eXcmeEn8yVbR",
        "outputId": "09916747-f8ff-4898-93e5-ecf2b5d147f9"
      },
      "source": [
        "print(dataset.isnull().sum())\n"
      ],
      "execution_count": 13,
      "outputs": [
        {
          "output_type": "stream",
          "name": "stdout",
          "text": [
            "fixed acidity           0\n",
            "volatile acidity        0\n",
            "citric acid             0\n",
            "residual sugar          0\n",
            "chlorides               0\n",
            "free sulfur dioxide     0\n",
            "total sulfur dioxide    0\n",
            "density                 0\n",
            "pH                      0\n",
            "sulphates               0\n",
            "alcohol                 0\n",
            "quality                 0\n",
            "dtype: int64\n"
          ]
        }
      ]
    },
    {
      "cell_type": "code",
      "metadata": {
        "colab": {
          "base_uri": "https://localhost:8080/"
        },
        "id": "CZr_82xwyVd0",
        "outputId": "b80abf40-bdea-4b8a-87b2-caaa93076b10"
      },
      "source": [
        "dataset.info()\n",
        "# we can see that the dataset does not contain any categorical data type"
      ],
      "execution_count": 14,
      "outputs": [
        {
          "output_type": "stream",
          "name": "stdout",
          "text": [
            "<class 'pandas.core.frame.DataFrame'>\n",
            "RangeIndex: 1599 entries, 0 to 1598\n",
            "Data columns (total 12 columns):\n",
            " #   Column                Non-Null Count  Dtype  \n",
            "---  ------                --------------  -----  \n",
            " 0   fixed acidity         1599 non-null   float64\n",
            " 1   volatile acidity      1599 non-null   float64\n",
            " 2   citric acid           1599 non-null   float64\n",
            " 3   residual sugar        1599 non-null   float64\n",
            " 4   chlorides             1599 non-null   float64\n",
            " 5   free sulfur dioxide   1599 non-null   float64\n",
            " 6   total sulfur dioxide  1599 non-null   float64\n",
            " 7   density               1599 non-null   float64\n",
            " 8   pH                    1599 non-null   float64\n",
            " 9   sulphates             1599 non-null   float64\n",
            " 10  alcohol               1599 non-null   float64\n",
            " 11  quality               1599 non-null   int64  \n",
            "dtypes: float64(11), int64(1)\n",
            "memory usage: 150.0 KB\n"
          ]
        }
      ]
    },
    {
      "cell_type": "code",
      "metadata": {
        "colab": {
          "base_uri": "https://localhost:8080/"
        },
        "id": "gQZb7h-fyVgT",
        "outputId": "91af3427-f52a-44ee-853b-57c2218c3d9d"
      },
      "source": [
        "# Checking for duplicate values in the dataset\n",
        "duplicate_rows_df = dataset[dataset.duplicated()]\n",
        "print(\"Number of duplicate rows: \", duplicate_rows_df.shape )"
      ],
      "execution_count": 15,
      "outputs": [
        {
          "output_type": "stream",
          "name": "stdout",
          "text": [
            "Number of duplicate rows:  (240, 12)\n"
          ]
        }
      ]
    },
    {
      "cell_type": "code",
      "metadata": {
        "colab": {
          "base_uri": "https://localhost:8080/"
        },
        "id": "UyPfXs6hyViv",
        "outputId": "c58fb867-dedb-49fa-a9c0-6b655838fc78"
      },
      "source": [
        "# removing the duplicate values\n",
        "dataset = dataset.drop_duplicates()\n",
        "print(dataset.shape)"
      ],
      "execution_count": 16,
      "outputs": [
        {
          "output_type": "stream",
          "name": "stdout",
          "text": [
            "(1359, 12)\n"
          ]
        }
      ]
    },
    {
      "cell_type": "code",
      "metadata": {
        "colab": {
          "base_uri": "https://localhost:8080/",
          "height": 314
        },
        "id": "h1yzpDoOyVlK",
        "outputId": "3d9d0094-820a-4805-d506-ea250934174d"
      },
      "source": [
        "dataset.describe()"
      ],
      "execution_count": 17,
      "outputs": [
        {
          "output_type": "execute_result",
          "data": {
            "text/html": [
              "<div>\n",
              "<style scoped>\n",
              "    .dataframe tbody tr th:only-of-type {\n",
              "        vertical-align: middle;\n",
              "    }\n",
              "\n",
              "    .dataframe tbody tr th {\n",
              "        vertical-align: top;\n",
              "    }\n",
              "\n",
              "    .dataframe thead th {\n",
              "        text-align: right;\n",
              "    }\n",
              "</style>\n",
              "<table border=\"1\" class=\"dataframe\">\n",
              "  <thead>\n",
              "    <tr style=\"text-align: right;\">\n",
              "      <th></th>\n",
              "      <th>fixed acidity</th>\n",
              "      <th>volatile acidity</th>\n",
              "      <th>citric acid</th>\n",
              "      <th>residual sugar</th>\n",
              "      <th>chlorides</th>\n",
              "      <th>free sulfur dioxide</th>\n",
              "      <th>total sulfur dioxide</th>\n",
              "      <th>density</th>\n",
              "      <th>pH</th>\n",
              "      <th>sulphates</th>\n",
              "      <th>alcohol</th>\n",
              "      <th>quality</th>\n",
              "    </tr>\n",
              "  </thead>\n",
              "  <tbody>\n",
              "    <tr>\n",
              "      <th>count</th>\n",
              "      <td>1359.000000</td>\n",
              "      <td>1359.000000</td>\n",
              "      <td>1359.000000</td>\n",
              "      <td>1359.000000</td>\n",
              "      <td>1359.000000</td>\n",
              "      <td>1359.000000</td>\n",
              "      <td>1359.000000</td>\n",
              "      <td>1359.000000</td>\n",
              "      <td>1359.000000</td>\n",
              "      <td>1359.000000</td>\n",
              "      <td>1359.000000</td>\n",
              "      <td>1359.000000</td>\n",
              "    </tr>\n",
              "    <tr>\n",
              "      <th>mean</th>\n",
              "      <td>8.310596</td>\n",
              "      <td>0.529478</td>\n",
              "      <td>0.272333</td>\n",
              "      <td>2.523400</td>\n",
              "      <td>0.088124</td>\n",
              "      <td>15.893304</td>\n",
              "      <td>46.825975</td>\n",
              "      <td>0.996709</td>\n",
              "      <td>3.309787</td>\n",
              "      <td>0.658705</td>\n",
              "      <td>10.432315</td>\n",
              "      <td>5.623252</td>\n",
              "    </tr>\n",
              "    <tr>\n",
              "      <th>std</th>\n",
              "      <td>1.736990</td>\n",
              "      <td>0.183031</td>\n",
              "      <td>0.195537</td>\n",
              "      <td>1.352314</td>\n",
              "      <td>0.049377</td>\n",
              "      <td>10.447270</td>\n",
              "      <td>33.408946</td>\n",
              "      <td>0.001869</td>\n",
              "      <td>0.155036</td>\n",
              "      <td>0.170667</td>\n",
              "      <td>1.082065</td>\n",
              "      <td>0.823578</td>\n",
              "    </tr>\n",
              "    <tr>\n",
              "      <th>min</th>\n",
              "      <td>4.600000</td>\n",
              "      <td>0.120000</td>\n",
              "      <td>0.000000</td>\n",
              "      <td>0.900000</td>\n",
              "      <td>0.012000</td>\n",
              "      <td>1.000000</td>\n",
              "      <td>6.000000</td>\n",
              "      <td>0.990070</td>\n",
              "      <td>2.740000</td>\n",
              "      <td>0.330000</td>\n",
              "      <td>8.400000</td>\n",
              "      <td>3.000000</td>\n",
              "    </tr>\n",
              "    <tr>\n",
              "      <th>25%</th>\n",
              "      <td>7.100000</td>\n",
              "      <td>0.390000</td>\n",
              "      <td>0.090000</td>\n",
              "      <td>1.900000</td>\n",
              "      <td>0.070000</td>\n",
              "      <td>7.000000</td>\n",
              "      <td>22.000000</td>\n",
              "      <td>0.995600</td>\n",
              "      <td>3.210000</td>\n",
              "      <td>0.550000</td>\n",
              "      <td>9.500000</td>\n",
              "      <td>5.000000</td>\n",
              "    </tr>\n",
              "    <tr>\n",
              "      <th>50%</th>\n",
              "      <td>7.900000</td>\n",
              "      <td>0.520000</td>\n",
              "      <td>0.260000</td>\n",
              "      <td>2.200000</td>\n",
              "      <td>0.079000</td>\n",
              "      <td>14.000000</td>\n",
              "      <td>38.000000</td>\n",
              "      <td>0.996700</td>\n",
              "      <td>3.310000</td>\n",
              "      <td>0.620000</td>\n",
              "      <td>10.200000</td>\n",
              "      <td>6.000000</td>\n",
              "    </tr>\n",
              "    <tr>\n",
              "      <th>75%</th>\n",
              "      <td>9.200000</td>\n",
              "      <td>0.640000</td>\n",
              "      <td>0.430000</td>\n",
              "      <td>2.600000</td>\n",
              "      <td>0.091000</td>\n",
              "      <td>21.000000</td>\n",
              "      <td>63.000000</td>\n",
              "      <td>0.997820</td>\n",
              "      <td>3.400000</td>\n",
              "      <td>0.730000</td>\n",
              "      <td>11.100000</td>\n",
              "      <td>6.000000</td>\n",
              "    </tr>\n",
              "    <tr>\n",
              "      <th>max</th>\n",
              "      <td>15.900000</td>\n",
              "      <td>1.580000</td>\n",
              "      <td>1.000000</td>\n",
              "      <td>15.500000</td>\n",
              "      <td>0.611000</td>\n",
              "      <td>72.000000</td>\n",
              "      <td>289.000000</td>\n",
              "      <td>1.003690</td>\n",
              "      <td>4.010000</td>\n",
              "      <td>2.000000</td>\n",
              "      <td>14.900000</td>\n",
              "      <td>8.000000</td>\n",
              "    </tr>\n",
              "  </tbody>\n",
              "</table>\n",
              "</div>"
            ],
            "text/plain": [
              "       fixed acidity  volatile acidity  ...      alcohol      quality\n",
              "count    1359.000000       1359.000000  ...  1359.000000  1359.000000\n",
              "mean        8.310596          0.529478  ...    10.432315     5.623252\n",
              "std         1.736990          0.183031  ...     1.082065     0.823578\n",
              "min         4.600000          0.120000  ...     8.400000     3.000000\n",
              "25%         7.100000          0.390000  ...     9.500000     5.000000\n",
              "50%         7.900000          0.520000  ...    10.200000     6.000000\n",
              "75%         9.200000          0.640000  ...    11.100000     6.000000\n",
              "max        15.900000          1.580000  ...    14.900000     8.000000\n",
              "\n",
              "[8 rows x 12 columns]"
            ]
          },
          "metadata": {},
          "execution_count": 17
        }
      ]
    },
    {
      "cell_type": "markdown",
      "metadata": {
        "id": "tIYwlrom3PfE"
      },
      "source": [
        " **Exploratory Data Analysis**"
      ]
    },
    {
      "cell_type": "code",
      "metadata": {
        "colab": {
          "base_uri": "https://localhost:8080/",
          "height": 351
        },
        "id": "l7GGXxyz5QoR",
        "outputId": "5542d29f-1a12-4f87-d73f-793d95781b9f"
      },
      "source": [
        "fig = plt.figure(figsize = (5,5))\n",
        "sns.barplot(x = 'quality', y = 'volatile acidity', data = dataset)\n",
        "#Here we see that higher quality wine has lower volatile acidity"
      ],
      "execution_count": 18,
      "outputs": [
        {
          "output_type": "execute_result",
          "data": {
            "text/plain": [
              "<matplotlib.axes._subplots.AxesSubplot at 0x7f93d0087710>"
            ]
          },
          "metadata": {},
          "execution_count": 18
        },
        {
          "output_type": "display_data",
          "data": {
            "image/png": "[encoded data removed]",
            "text/plain": [
              "<Figure size 360x360 with 1 Axes>"
            ]
          },
          "metadata": {
            "needs_background": "light"
          }
        }
      ]
    },
    {
      "cell_type": "code",
      "metadata": {
        "colab": {
          "base_uri": "https://localhost:8080/",
          "height": 351
        },
        "id": "D9exzTIj5Q2c",
        "outputId": "e822438a-7c0b-456a-85dc-692f9913073d"
      },
      "source": [
        "fig = plt.figure(figsize = (5,5))\n",
        "sns.barplot(x = 'quality', y = 'fixed acidity', data = dataset)\n",
        "#Here we see that fixed acidity does not give any specification to classify the quality."
      ],
      "execution_count": 19,
      "outputs": [
        {
          "output_type": "execute_result",
          "data": {
            "text/plain": [
              "<matplotlib.axes._subplots.AxesSubplot at 0x7f93d00957d0>"
            ]
          },
          "metadata": {},
          "execution_count": 19
        },
        {
          "output_type": "display_data",
          "data": {
            "image/png": "[encoded data removed]",
            "text/plain": [
              "<Figure size 360x360 with 1 Axes>"
            ]
          },
          "metadata": {
            "needs_background": "light"
          }
        }
      ]
    },
    {
      "cell_type": "code",
      "metadata": {
        "colab": {
          "base_uri": "https://localhost:8080/",
          "height": 351
        },
        "id": "EYrzW0nh5Q4x",
        "outputId": "03fd1881-df7f-44f3-c750-fa55d314a5e6"
      },
      "source": [
        "fig = plt.figure(figsize = (5,5))\n",
        "sns.barplot(x = 'quality', y = 'citric acid', data = dataset)\n",
        "#Composition of citric acid go higher as we go higher in the quality of the wine"
      ],
      "execution_count": 20,
      "outputs": [
        {
          "output_type": "execute_result",
          "data": {
            "text/plain": [
              "<matplotlib.axes._subplots.AxesSubplot at 0x7f93cff6d890>"
            ]
          },
          "metadata": {},
          "execution_count": 20
        },
        {
          "output_type": "display_data",
          "data": {
            "image/png": "[encoded data removed]",
            "text/plain": [
              "<Figure size 360x360 with 1 Axes>"
            ]
          },
          "metadata": {
            "needs_background": "light"
          }
        }
      ]
    },
    {
      "cell_type": "code",
      "metadata": {
        "colab": {
          "base_uri": "https://localhost:8080/",
          "height": 351
        },
        "id": "0XiKzuoJ5Q7N",
        "outputId": "e1fb017d-82f9-4b7c-b4d2-36206f7addc3"
      },
      "source": [
        "fig = plt.figure(figsize = (5,5))\n",
        "sns.barplot(x = 'quality', y = 'residual sugar', data = dataset)\n",
        "# Residual Sugar does not have a significant effect on the quality of wine"
      ],
      "execution_count": 21,
      "outputs": [
        {
          "output_type": "execute_result",
          "data": {
            "text/plain": [
              "<matplotlib.axes._subplots.AxesSubplot at 0x7f93cf9cccd0>"
            ]
          },
          "metadata": {},
          "execution_count": 21
        },
        {
          "output_type": "display_data",
          "data": {
            "image/png": "[encoded data removed]",
            "text/plain": [
              "<Figure size 360x360 with 1 Axes>"
            ]
          },
          "metadata": {
            "needs_background": "light"
          }
        }
      ]
    },
    {
      "cell_type": "code",
      "metadata": {
        "colab": {
          "base_uri": "https://localhost:8080/",
          "height": 351
        },
        "id": "evI0KMR-5Q-C",
        "outputId": "ee151044-a0b3-4b37-ee9d-926b4bb99f6d"
      },
      "source": [
        "fig = plt.figure(figsize = (5,5))\n",
        "sns.barplot(x = 'quality', y = 'chlorides', data = dataset)\n",
        "#Composition of chloride also go down as we go higher in the quality of the wine"
      ],
      "execution_count": 22,
      "outputs": [
        {
          "output_type": "execute_result",
          "data": {
            "text/plain": [
              "<matplotlib.axes._subplots.AxesSubplot at 0x7f93cf9bdd90>"
            ]
          },
          "metadata": {},
          "execution_count": 22
        },
        {
          "output_type": "display_data",
          "data": {
            "image/png": "[encoded data removed]",
            "text/plain": [
              "<Figure size 360x360 with 1 Axes>"
            ]
          },
          "metadata": {
            "needs_background": "light"
          }
        }
      ]
    },
    {
      "cell_type": "code",
      "metadata": {
        "colab": {
          "base_uri": "https://localhost:8080/",
          "height": 351
        },
        "id": "7LaW9ltq5Q_-",
        "outputId": "b1ee4221-7c10-4932-e2c3-cc3ec50022d2"
      },
      "source": [
        "fig = plt.figure(figsize = (5,5))\n",
        "sns.barplot(x = 'quality', y = 'free sulfur dioxide', data = dataset)"
      ],
      "execution_count": 23,
      "outputs": [
        {
          "output_type": "execute_result",
          "data": {
            "text/plain": [
              "<matplotlib.axes._subplots.AxesSubplot at 0x7f93cf92d050>"
            ]
          },
          "metadata": {},
          "execution_count": 23
        },
        {
          "output_type": "display_data",
          "data": {
            "image/png": "[encoded data removed]",
            "text/plain": [
              "<Figure size 360x360 with 1 Axes>"
            ]
          },
          "metadata": {
            "needs_background": "light"
          }
        }
      ]
    },
    {
      "cell_type": "code",
      "metadata": {
        "colab": {
          "base_uri": "https://localhost:8080/",
          "height": 351
        },
        "id": "bFYKllmo5RCb",
        "outputId": "521afde0-8355-46fa-9bdc-a218482081ed"
      },
      "source": [
        "fig = plt.figure(figsize = (5,5))\n",
        "sns.barplot(x = 'quality', y = 'total sulfur dioxide', data = dataset)"
      ],
      "execution_count": 24,
      "outputs": [
        {
          "output_type": "execute_result",
          "data": {
            "text/plain": [
              "<matplotlib.axes._subplots.AxesSubplot at 0x7f93cf896650>"
            ]
          },
          "metadata": {},
          "execution_count": 24
        },
        {
          "output_type": "display_data",
          "data": {
            "image/png": "[encoded data removed]",
            "text/plain": [
              "<Figure size 360x360 with 1 Axes>"
            ]
          },
          "metadata": {
            "needs_background": "light"
          }
        }
      ]
    },
    {
      "cell_type": "code",
      "metadata": {
        "colab": {
          "base_uri": "https://localhost:8080/",
          "height": 351
        },
        "id": "6r-cQA2l5RE_",
        "outputId": "a5a8ca18-38a5-4fd1-f2ee-7bae2a5e4e9b"
      },
      "source": [
        "fig = plt.figure(figsize = (5,5))\n",
        "sns.barplot(x = 'quality', y = 'alcohol', data = dataset)\n",
        "#Alcohol level also goes higher as te quality of wine increases"
      ],
      "execution_count": 25,
      "outputs": [
        {
          "output_type": "execute_result",
          "data": {
            "text/plain": [
              "<matplotlib.axes._subplots.AxesSubplot at 0x7f93cf7dc6d0>"
            ]
          },
          "metadata": {},
          "execution_count": 25
        },
        {
          "output_type": "display_data",
          "data": {
            "image/png": "[encoded data removed]",
            "text/plain": [
              "<Figure size 360x360 with 1 Axes>"
            ]
          },
          "metadata": {
            "needs_background": "light"
          }
        }
      ]
    },
    {
      "cell_type": "code",
      "metadata": {
        "colab": {
          "base_uri": "https://localhost:8080/",
          "height": 648
        },
        "id": "TB6c2DsJ5RHe",
        "outputId": "04384e90-ab01-4a57-a5cb-0b58755147fd"
      },
      "source": [
        "plt.subplots(figsize=(10,10))\n",
        "sns.heatmap(dataset.corr(), cbar=True, square=True, fmt='.1f', annot=True, annot_kws = {'size':8}, cmap='Greens')"
      ],
      "execution_count": 26,
      "outputs": [
        {
          "output_type": "execute_result",
          "data": {
            "text/plain": [
              "<matplotlib.axes._subplots.AxesSubplot at 0x7f93d00028d0>"
            ]
          },
          "metadata": {},
          "execution_count": 26
        },
        {
          "output_type": "display_data",
          "data": {
            "image/png": "[encoded data removed]",
            "text/plain": [
              "<Figure size 720x720 with 2 Axes>"
            ]
          },
          "metadata": {
            "needs_background": "light"
          }
        }
      ]
    },
    {
      "cell_type": "code",
      "metadata": {
        "colab": {
          "base_uri": "https://localhost:8080/"
        },
        "id": "6ZsXhcV-5RKc",
        "outputId": "2545dfc8-1fed-44e9-a302-a783c31ad1c4"
      },
      "source": [
        "print(dataset['quality'].value_counts())"
      ],
      "execution_count": 27,
      "outputs": [
        {
          "output_type": "stream",
          "name": "stdout",
          "text": [
            "5    577\n",
            "6    535\n",
            "7    167\n",
            "4     53\n",
            "8     17\n",
            "3     10\n",
            "Name: quality, dtype: int64\n"
          ]
        }
      ]
    },
    {
      "cell_type": "code",
      "metadata": {
        "colab": {
          "base_uri": "https://localhost:8080/",
          "height": 298
        },
        "id": "RXMdK_T45RM9",
        "outputId": "a4475f1a-8274-4bf7-be9f-6b206203f450"
      },
      "source": [
        "sns.countplot(x=dataset['quality'])"
      ],
      "execution_count": 28,
      "outputs": [
        {
          "output_type": "execute_result",
          "data": {
            "text/plain": [
              "<matplotlib.axes._subplots.AxesSubplot at 0x7f93c6d262d0>"
            ]
          },
          "metadata": {},
          "execution_count": 28
        },
        {
          "output_type": "display_data",
          "data": {
            "image/png": "[encoded data removed]",
            "text/plain": [
              "<Figure size 432x288 with 1 Axes>"
            ]
          },
          "metadata": {
            "needs_background": "light"
          }
        }
      ]
    },
    {
      "cell_type": "code",
      "metadata": {
        "id": "CqQr9jXt5RPd"
      },
      "source": [
        "def cat(x):\n",
        "    if x < 6.5:\n",
        "        return 'poor'\n",
        "    else:\n",
        "        return 'good'\n",
        "dataset['quality']=dataset['quality'].apply(lambda x: cat(x))\n",
        "#assuming that the quality below 6 is not up to the mark and above 6 is good"
      ],
      "execution_count": 29,
      "outputs": []
    },
    {
      "cell_type": "code",
      "metadata": {
        "colab": {
          "base_uri": "https://localhost:8080/"
        },
        "id": "lHkep8IR5RVc",
        "outputId": "1e647984-1f93-4e83-a984-5bb3366e143f"
      },
      "source": [
        "print(dataset['quality'].value_counts())"
      ],
      "execution_count": 30,
      "outputs": [
        {
          "output_type": "stream",
          "name": "stdout",
          "text": [
            "poor    1175\n",
            "good     184\n",
            "Name: quality, dtype: int64\n"
          ]
        }
      ]
    },
    {
      "cell_type": "code",
      "metadata": {
        "colab": {
          "base_uri": "https://localhost:8080/",
          "height": 350
        },
        "id": "0kYKGhUkIC2o",
        "outputId": "a93f21b9-1dd9-4255-ef22-47caf880c937"
      },
      "source": [
        "sns.countplot(dataset['quality'])"
      ],
      "execution_count": 31,
      "outputs": [
        {
          "output_type": "stream",
          "name": "stderr",
          "text": [
            "/usr/local/lib/python3.7/dist-packages/seaborn/_decorators.py:43: FutureWarning: Pass the following variable as a keyword arg: x. From version 0.12, the only valid positional argument will be `data`, and passing other arguments without an explicit keyword will result in an error or misinterpretation.\n",
            "  FutureWarning\n"
          ]
        },
        {
          "output_type": "execute_result",
          "data": {
            "text/plain": [
              "<matplotlib.axes._subplots.AxesSubplot at 0x7f93c6d28450>"
            ]
          },
          "metadata": {},
          "execution_count": 31
        },
        {
          "output_type": "display_data",
          "data": {
            "image/png": "[encoded data removed]",
            "text/plain": [
              "<Figure size 432x288 with 1 Axes>"
            ]
          },
          "metadata": {
            "needs_background": "light"
          }
        }
      ]
    },
    {
      "cell_type": "code",
      "metadata": {
        "id": "exscOZ1BIC4r"
      },
      "source": [
        "#Now lets assign a labels to our quality variable\n",
        "label_quality = LabelEncoder()\n",
        "#poor becomes 1 and good becomes 0 \n",
        "dataset['quality'] = label_quality.fit_transform(dataset['quality'])"
      ],
      "execution_count": 32,
      "outputs": []
    },
    {
      "cell_type": "code",
      "metadata": {
        "colab": {
          "base_uri": "https://localhost:8080/"
        },
        "id": "blZBuHAvIC7K",
        "outputId": "016d1559-20a5-4444-f374-ba3ac1652d84"
      },
      "source": [
        "print(dataset['quality'].value_counts())"
      ],
      "execution_count": 33,
      "outputs": [
        {
          "output_type": "stream",
          "name": "stdout",
          "text": [
            "1    1175\n",
            "0     184\n",
            "Name: quality, dtype: int64\n"
          ]
        }
      ]
    },
    {
      "cell_type": "code",
      "metadata": {
        "id": "oQv3by5UIC9u"
      },
      "source": [
        "# Extracting independent and dependent variables\n",
        "x = dataset.drop(['quality'], axis=1)\n",
        "y = dataset['quality']"
      ],
      "execution_count": 34,
      "outputs": []
    },
    {
      "cell_type": "markdown",
      "metadata": {
        "id": "DvM6We22ItHp"
      },
      "source": [
        "**Feature Scaling**"
      ]
    },
    {
      "cell_type": "code",
      "metadata": {
        "id": "NYAb2aleIDAw"
      },
      "source": [
        "sc = StandardScaler()\n",
        "x = sc.fit_transform(x)"
      ],
      "execution_count": 35,
      "outputs": []
    },
    {
      "cell_type": "markdown",
      "metadata": {
        "id": "PEQDVIz1JAoI"
      },
      "source": [
        "**Splitting the dataset into train and **test****"
      ]
    },
    {
      "cell_type": "code",
      "metadata": {
        "colab": {
          "base_uri": "https://localhost:8080/"
        },
        "id": "UklmP2WYIDEU",
        "outputId": "df46f779-1039-4e85-a2fd-6c600e3739e7"
      },
      "source": [
        "x_train, x_test, y_train, y_test = train_test_split(x, y, test_size=0.2, random_state=42)\n",
        "print(x_train.shape, x_test.shape)"
      ],
      "execution_count": 36,
      "outputs": [
        {
          "output_type": "stream",
          "name": "stdout",
          "text": [
            "(1087, 11) (272, 11)\n"
          ]
        }
      ]
    },
    {
      "cell_type": "markdown",
      "metadata": {
        "id": "TM5aWWYJJT5y"
      },
      "source": [
        "**Creating a function to apply different classification models**"
      ]
    },
    {
      "cell_type": "code",
      "metadata": {
        "id": "WsiIZ0wVJbT3"
      },
      "source": [
        "def fit_predict(model1):\n",
        "    model = model1\n",
        "    model.fit(x_train, y_train)\n",
        "    y_pred=model.predict(x_test)\n",
        "    print(\"Accuracy score: \",(accuracy_score(y_test, y_pred)*100))\n",
        "    print(\"\\nConfusion Matirx\")\n",
        "    print(confusion_matrix(y_test, y_pred))\n",
        "    print(\"\\nClassification report\")\n",
        "    print(classification_report(y_test,y_pred))"
      ],
      "execution_count": 37,
      "outputs": []
    },
    {
      "cell_type": "markdown",
      "metadata": {
        "id": "ymPZfA5YJhV5"
      },
      "source": [
        "**Logistics Regression**"
      ]
    },
    {
      "cell_type": "code",
      "metadata": {
        "colab": {
          "base_uri": "https://localhost:8080/"
        },
        "id": "JP-m2X5tJbmK",
        "outputId": "9de270c1-3452-4b1b-dec1-2a29195ce4d5"
      },
      "source": [
        "from sklearn.linear_model import LogisticRegression\n",
        "fit_predict(LogisticRegression())"
      ],
      "execution_count": 38,
      "outputs": [
        {
          "output_type": "stream",
          "name": "stdout",
          "text": [
            "Accuracy score:  89.33823529411765\n",
            "\n",
            "Confusion Matirx\n",
            "[[ 13  21]\n",
            " [  8 230]]\n",
            "\n",
            "Classification report\n",
            "              precision    recall  f1-score   support\n",
            "\n",
            "           0       0.62      0.38      0.47        34\n",
            "           1       0.92      0.97      0.94       238\n",
            "\n",
            "    accuracy                           0.89       272\n",
            "   macro avg       0.77      0.67      0.71       272\n",
            "weighted avg       0.88      0.89      0.88       272\n",
            "\n"
          ]
        }
      ]
    },
    {
      "cell_type": "markdown",
      "metadata": {
        "id": "E7ZpmhOoJu96"
      },
      "source": [
        "**using KNN**"
      ]
    },
    {
      "cell_type": "code",
      "metadata": {
        "colab": {
          "base_uri": "https://localhost:8080/"
        },
        "id": "YGnI_TJrJbod",
        "outputId": "b1099cd3-2dd1-49f6-ee93-0972aa2e403e"
      },
      "source": [
        "from sklearn.neighbors import KNeighborsClassifier\n",
        "fit_predict(KNeighborsClassifier(n_neighbors=7))"
      ],
      "execution_count": 39,
      "outputs": [
        {
          "output_type": "stream",
          "name": "stdout",
          "text": [
            "Accuracy score:  90.07352941176471\n",
            "\n",
            "Confusion Matirx\n",
            "[[ 17  17]\n",
            " [ 10 228]]\n",
            "\n",
            "Classification report\n",
            "              precision    recall  f1-score   support\n",
            "\n",
            "           0       0.63      0.50      0.56        34\n",
            "           1       0.93      0.96      0.94       238\n",
            "\n",
            "    accuracy                           0.90       272\n",
            "   macro avg       0.78      0.73      0.75       272\n",
            "weighted avg       0.89      0.90      0.90       272\n",
            "\n"
          ]
        }
      ]
    },
    {
      "cell_type": "markdown",
      "metadata": {
        "id": "m7DZIMGCKY9V"
      },
      "source": [
        "**Decision Tree**"
      ]
    },
    {
      "cell_type": "code",
      "metadata": {
        "id": "FfzPyM_KJbrI",
        "colab": {
          "base_uri": "https://localhost:8080/"
        },
        "outputId": "5338076e-c5c2-4f8f-ce00-39cd44683ca2"
      },
      "source": [
        "from sklearn.tree import DecisionTreeClassifier\n",
        "fit_predict(DecisionTreeClassifier(max_depth=2))"
      ],
      "execution_count": 40,
      "outputs": [
        {
          "output_type": "stream",
          "name": "stdout",
          "text": [
            "Accuracy score:  90.80882352941177\n",
            "\n",
            "Confusion Matirx\n",
            "[[ 20  14]\n",
            " [ 11 227]]\n",
            "\n",
            "Classification report\n",
            "              precision    recall  f1-score   support\n",
            "\n",
            "           0       0.65      0.59      0.62        34\n",
            "           1       0.94      0.95      0.95       238\n",
            "\n",
            "    accuracy                           0.91       272\n",
            "   macro avg       0.79      0.77      0.78       272\n",
            "weighted avg       0.90      0.91      0.91       272\n",
            "\n"
          ]
        }
      ]
    },
    {
      "cell_type": "markdown",
      "metadata": {
        "id": "Wc_R88dpKjGh"
      },
      "source": [
        "**Random Forest**"
      ]
    },
    {
      "cell_type": "code",
      "metadata": {
        "colab": {
          "base_uri": "https://localhost:8080/"
        },
        "id": "eN8Xj6BGJbts",
        "outputId": "83aa9dcb-578a-4e7d-a7fc-5d9022b8da94"
      },
      "source": [
        "from sklearn.ensemble import RandomForestClassifier\n",
        "fit_predict(RandomForestClassifier(n_estimators=200, random_state=0))"
      ],
      "execution_count": 41,
      "outputs": [
        {
          "output_type": "stream",
          "name": "stdout",
          "text": [
            "Accuracy score:  91.54411764705883\n",
            "\n",
            "Confusion Matirx\n",
            "[[ 14  20]\n",
            " [  3 235]]\n",
            "\n",
            "Classification report\n",
            "              precision    recall  f1-score   support\n",
            "\n",
            "           0       0.82      0.41      0.55        34\n",
            "           1       0.92      0.99      0.95       238\n",
            "\n",
            "    accuracy                           0.92       272\n",
            "   macro avg       0.87      0.70      0.75       272\n",
            "weighted avg       0.91      0.92      0.90       272\n",
            "\n"
          ]
        }
      ]
    },
    {
      "cell_type": "markdown",
      "metadata": {
        "id": "PQzIGuTMKu6_"
      },
      "source": [
        "**Support Vector Classifier**"
      ]
    },
    {
      "cell_type": "code",
      "metadata": {
        "colab": {
          "base_uri": "https://localhost:8080/"
        },
        "id": "JH-G8CDYJbwW",
        "outputId": "73821ff3-fcc8-41df-d4bb-a3999b1b4839"
      },
      "source": [
        "from sklearn.svm import SVC\n",
        "fit_predict(SVC())"
      ],
      "execution_count": 42,
      "outputs": [
        {
          "output_type": "stream",
          "name": "stdout",
          "text": [
            "Accuracy score:  91.91176470588235\n",
            "\n",
            "Confusion Matirx\n",
            "[[ 15  19]\n",
            " [  3 235]]\n",
            "\n",
            "Classification report\n",
            "              precision    recall  f1-score   support\n",
            "\n",
            "           0       0.83      0.44      0.58        34\n",
            "           1       0.93      0.99      0.96       238\n",
            "\n",
            "    accuracy                           0.92       272\n",
            "   macro avg       0.88      0.71      0.77       272\n",
            "weighted avg       0.91      0.92      0.91       272\n",
            "\n"
          ]
        }
      ]
    },
    {
      "cell_type": "markdown",
      "metadata": {
        "id": "nTiz4St3K4BV"
      },
      "source": [
        "**creating test case**"
      ]
    },
    {
      "cell_type": "code",
      "metadata": {
        "colab": {
          "base_uri": "https://localhost:8080/"
        },
        "id": "ytEc6HKRJbzy",
        "outputId": "38d1d131-9a95-4039-bc27-3d26a9000522"
      },
      "source": [
        "model = SVC()                                             # we are going to use SVC to make predictions for our test case\n",
        "model.fit(x_train, y_train)\n",
        "\n",
        "test_case_list = [7.4, 0.36, 0.3, 1.8, 0.074, 17, 24, 0.99419, 3.24, 0.7, 13.4]\n",
        "#creating a list of random values for chemical compositions of wine\n",
        "\n",
        "test_case_df = pd.DataFrame(test_case_list)               # converting the list into a dataframe\n",
        "test_case = test_case_df.T                                # the shape of current df is (11,1) and the required shape is (1,11)\n",
        "test_case_scaled = sc.transform(test_case)                # applying standard scaler to the test case\n",
        "test_case_prediction = model.predict(test_case_scaled)    # predicting the quality for test case\n",
        "if(test_case_prediction == 0):                            # generating the result.\n",
        "    print('The Quality of wine is good.')\n",
        "else:\n",
        "    print('The Quality of wine is not up to the mark.')"
      ],
      "execution_count": 43,
      "outputs": [
        {
          "output_type": "stream",
          "name": "stdout",
          "text": [
            "The Quality of wine is good.\n"
          ]
        }
      ]
    },
    {
      "cell_type": "markdown",
      "metadata": {
        "id": "iJpyyExHVY0c"
      },
      "source": [
        "submitted by Subhabrata Majee\n",
        "\n"
      ]
    }
  ]
}